{
 "cells": [
  {
   "cell_type": "code",
   "execution_count": null,
   "id": "e1748ad1-1eca-469c-8963-9afc475b3da5",
   "metadata": {},
   "outputs": [],
   "source": [
    "from sliderule import sliderule, icesat2"
   ]
  },
  {
   "cell_type": "code",
   "execution_count": null,
   "id": "653517ef-dd48-4191-9e9b-a26ccef8b02a",
   "metadata": {},
   "outputs": [],
   "source": [
    "sliderule.init(\"slideruleearth.io\", verbose=True)"
   ]
  },
  {
   "cell_type": "code",
   "execution_count": null,
   "id": "a5d98cd1-8046-4dc8-9d0e-292278411be1",
   "metadata": {},
   "outputs": [],
   "source": [
    "output_filename = \"coreg_xdem_s2s041_GE01.geoparquet\"\n",
    "bbox = [ -148.18745905969627,\n",
    "         64.69002109391391,\n",
    "         -147.84234451001666,\n",
    "         64.93813840761094 ]"
   ]
  },
  {
   "cell_type": "code",
   "execution_count": null,
   "id": "0cf2a92c-d2ac-4ad4-993c-bca0f42a7345",
   "metadata": {},
   "outputs": [],
   "source": [
    "output_filename = \"coreg_xdem_s2s041_W1W1.geoparquet\"\n",
    "bbox = [ -49.77058925929422,\n",
    "         64.14060756013781,\n",
    "         -49.40534623297764,\n",
    "         64.42129807488229 ]"
   ]
  },
  {
   "cell_type": "code",
   "execution_count": null,
   "id": "16a20c4a-fe0f-4763-85ec-6c73cf9f336e",
   "metadata": {},
   "outputs": [],
   "source": [
    "output_filename = \"coreg_xdem_s2s041_WV01.geoparquet\"\n",
    "bbox = [ -19.724601604719513,\n",
    "         63.33720774695473,\n",
    "         -19.33932755932741,\n",
    "         63.621413552555516 ]"
   ]
  },
  {
   "cell_type": "code",
   "execution_count": null,
   "id": "308ed51f-5c5c-4037-94ec-9168dd545a03",
   "metadata": {},
   "outputs": [],
   "source": [
    "region = sliderule.toregion(bbox)\n",
    "parms = { \"poly\": region['poly'],\n",
    "          \"cnf\": \"atl03_medium\",\n",
    "          \"ats\": 20.0,\n",
    "          \"cnt\": 10,\n",
    "          \"len\": 40.0,\n",
    "          \"res\": 20.0,\n",
    "          \"output\": { \"path\": output_filename, \"format\": \"geoparquet\", \"open_on_complete\": True } }"
   ]
  },
  {
   "cell_type": "code",
   "execution_count": null,
   "id": "b01cd8ad-3ce7-4647-96c1-b98dd0ab59a4",
   "metadata": {
    "scrolled": true
   },
   "outputs": [],
   "source": [
    "gdf = icesat2.atl06p(parms)"
   ]
  },
  {
   "cell_type": "code",
   "execution_count": null,
   "id": "cd99d2c6-3955-4bf2-9ad2-f6b6a5714085",
   "metadata": {},
   "outputs": [],
   "source": [
    "gdf"
   ]
  },
  {
   "cell_type": "code",
   "execution_count": null,
   "id": "49b6693c-8785-4a79-94c1-ee02344ee97c",
   "metadata": {},
   "outputs": [],
   "source": []
  }
 ],
 "metadata": {
  "kernelspec": {
   "display_name": "Python 3 (ipykernel)",
   "language": "python",
   "name": "python3"
  },
  "language_info": {
   "codemirror_mode": {
    "name": "ipython",
    "version": 3
   },
   "file_extension": ".py",
   "mimetype": "text/x-python",
   "name": "python",
   "nbconvert_exporter": "python",
   "pygments_lexer": "ipython3",
   "version": "3.13.0"
  }
 },
 "nbformat": 4,
 "nbformat_minor": 5
}
