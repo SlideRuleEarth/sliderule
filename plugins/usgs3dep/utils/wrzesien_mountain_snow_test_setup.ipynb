{
 "cells": [
  {
   "cell_type": "code",
   "execution_count": null,
   "id": "e496cdcc-a029-44d4-90f9-94e7686d5d9d",
   "metadata": {},
   "outputs": [],
   "source": [
    "import geopandas as gpd\n",
    "import matplotlib\n",
    "import matplotlib.pyplot as plt\n",
    "import os"
   ]
  },
  {
   "cell_type": "code",
   "execution_count": null,
   "id": "a273c7e1-f3e0-4221-924c-110b4c7942be",
   "metadata": {},
   "outputs": [],
   "source": [
    "import sliderule\n",
    "from sliderule import gedi, earthdata, raster, icesat2"
   ]
  },
  {
   "cell_type": "code",
   "execution_count": null,
   "id": "6e2dbede-3951-4186-bfff-9259142e5e67",
   "metadata": {},
   "outputs": [],
   "source": [
    "%%time\n",
    "sliderule.init(\"localhost\", organization=None, verbose=True)"
   ]
  },
  {
   "cell_type": "code",
   "execution_count": null,
   "id": "9bd96c60-a1f6-4a6c-b2c8-793d9825f91f",
   "metadata": {},
   "outputs": [],
   "source": [
    "poly_geojson = '/data/3dep/wrzesien_mountain_snow_sieve_poly.geojson'\n",
    "bbox_gdf = gpd.read_file(poly_geojson)\n",
    "bbox_gdf.plot()"
   ]
  },
  {
   "cell_type": "code",
   "execution_count": null,
   "id": "ea5b9900-1264-47d9-b922-76984cae8ebb",
   "metadata": {},
   "outputs": [],
   "source": [
    "bbox_gdf_simple = bbox_gdf.copy()\n",
    "bbox_gdf_simple['geometry'] = bbox_gdf_simple.simplify(tolerance=0.01)\n",
    "bbox_gdf_simple = bbox_gdf_simple.dissolve()"
   ]
  },
  {
   "cell_type": "code",
   "execution_count": null,
   "id": "6a4de264-a6ec-441e-9a14-53934b46da1d",
   "metadata": {},
   "outputs": [],
   "source": [
    "region = sliderule.toregion(bbox_gdf_simple, cellsize=0.01)\n",
    "region['gdf'].plot()"
   ]
  },
  {
   "cell_type": "code",
   "execution_count": null,
   "id": "ba04d952-a961-46a2-97ba-58c0f9aa3f5d",
   "metadata": {},
   "outputs": [],
   "source": [
    "year = 2022\n",
    "t0 = f'{year}-10-01T00:00:00Z'\n",
    "t1 = f'{year+1}-09-30T23:59:59Z'\n",
    "time_start = f'{year}-10-01'\n",
    "time_end = f'{year+1}-09-30'"
   ]
  },
  {
   "cell_type": "code",
   "execution_count": null,
   "id": "b78b7a6e-604f-4915-8487-820a2515dc9d",
   "metadata": {},
   "outputs": [],
   "source": [
    "%%time\n",
    "catalog_file = '/data/3dep/wrzesien_mountain_snow_sieve_catalog.geojson'\n",
    "\n",
    "earthdata.set_max_resources(999999)\n",
    "\n",
    "if not os.path.exists(catalog_file):\n",
    "    # usgs3dep_catalog = earthdata.tnm(short_name='Digital Elevation Model (DEM) 1 meter', time_start=time_start, time_end=time_end, polygon=region['poly'])\n",
    "    # usgs3dep_catalog = earthdata.tnm(short_name='Digital Elevation Model (DEM) 1 meter', time_start=t0, time_end=t1, polygon=region['poly'])\n",
    "    usgs3dep_catalog = earthdata.tnm(short_name='Digital Elevation Model (DEM) 1 meter', polygon=region['poly'])\n",
    "\n",
    "    # Save usgs3dep_catalog to a file\n",
    "    with open(catalog_file, 'w') as file:\n",
    "        file.write(usgs3dep_catalog)\n",
    "else:\n",
    "    with open(catalog_file, 'r') as file:\n",
    "        usgs3dep_catalog = file.read()"
   ]
  },
  {
   "cell_type": "code",
   "execution_count": null,
   "id": "e8379c91-ae08-4ff9-9993-a5633f5b39ac",
   "metadata": {},
   "outputs": [],
   "source": [
    "import json\n",
    "d = json.loads(usgs3dep_catalog)\n",
    "len(d['features'])"
   ]
  },
  {
   "cell_type": "code",
   "execution_count": null,
   "id": "4452c6a0-70b6-4b5f-afab-5342c9c80968",
   "metadata": {},
   "outputs": [],
   "source": [
    "d['features'][0]"
   ]
  },
  {
   "cell_type": "code",
   "execution_count": null,
   "id": "92ff223b-7abb-487e-9226-db49c12cc096",
   "metadata": {},
   "outputs": [],
   "source": [
    "parquet_file = '/data/3dep/wrzesien_snow.parquet'\n",
    "poi_file     = '/data/3dep/wrzesien_snow_poi.txt'\n",
    "\n",
    "is2_parms = {\n",
    "    \"asset\": \"icesat2\",\n",
    "    \"poly\": region['poly'],\n",
    "    \"raster\": region['raster'],\n",
    "    \"max_resources\": 999999,\n",
    "    \"timeout\": 6000,\n",
    "    \"srt\": 0,\n",
    "    \"len\": 40,\n",
    "    \"res\": 20,\n",
    "    \"cnf\": 4,\n",
    "    \"atl08_class\": [\"atl08_ground\"],\n",
    "    \"maxi\": 6,\n",
    "    \"ats\": 20.0,\n",
    "    \"cnt\": 10,\n",
    "    \"H_min_win\": 3.0,\n",
    "    \"sigma_r_max\": 5.0,\n",
    "    \"output\": {\"path\": \"/data/3dep/wrzesien_snow.parquet\", \"format\": \"parquet\", \"as_geo\": True, \"open_on_complete\": True},\n",
    "    # \"output\": {\"path\": parquet_file, \"format\": \"parquet\", \"as_geo\": True, \"open_on_complete\": True},\n",
    "    # \"samples\": {\"3dep\": {\"asset\": \"usgs3dep-1meter-dem\", \"use_poi_time\": True, \"catalog\": usgs3dep_catalog, \"single_stop\": True, \"t0\": t0, \"t1\": t1}},\n",
    "    # \"samples\": {\"3dep\": {\"asset\": \"usgs3dep-1meter-dem\", \"use_poi_time\": True, \"catalog\": usgs3dep_catalog, \"single_stop\": False, \"t0\": t0, \"t1\": t1}},\n",
    "    \"t0\":t0, \"t1\":t1   #This is for temporal filtering of ATL08 granules\n",
    "}"
   ]
  },
  {
   "cell_type": "code",
   "execution_count": null,
   "id": "93d2950f-698b-49a5-9a1a-2fb2699f157b",
   "metadata": {},
   "outputs": [],
   "source": [
    "%%time\n",
    "resources = earthdata.search(is2_parms)"
   ]
  },
  {
   "cell_type": "code",
   "execution_count": null,
   "id": "1b7ab928",
   "metadata": {},
   "outputs": [],
   "source": [
    "%%time\n",
    "is2_ground = icesat2.atl06p(is2_parms, height_key='h_mean', resources=resources[:1])"
   ]
  },
  {
   "cell_type": "code",
   "execution_count": null,
   "id": "6a154439",
   "metadata": {},
   "outputs": [],
   "source": [
    "# generate_poi = False\n",
    "generate_poi = True\n",
    "\n",
    "if generate_poi and os.path.exists(parquet_file):\n",
    "    gdf = gpd.read_parquet(parquet_file)\n",
    "    print(gdf.columns)\n",
    "\n",
    "    # Ensure the geometry column is in the correct format (Point)\n",
    "    if not gdf.geometry.geom_type.isin(['Point']).all():\n",
    "        raise ValueError(\"All geometries must be of Point type\")\n",
    "\n",
    "    # Open the output file and write the coordinates\n",
    "    with open(poi_file, mode='w') as txt_file:\n",
    "        for index, row in gdf.iterrows():\n",
    "            # Extract longitude and latitude from the geometry column\n",
    "            longitude = row.geometry.x\n",
    "            latitude = row.geometry.y\n",
    "            txt_file.write(f\"{longitude} {latitude}\\n\")"
   ]
  },
  {
   "cell_type": "code",
   "execution_count": null,
   "id": "363e7134-392f-4387-bf8f-140c01e59961",
   "metadata": {},
   "outputs": [],
   "source": [
    "#is2_ground"
   ]
  },
  {
   "cell_type": "code",
   "execution_count": null,
   "id": "6ce88f24-eb00-4f41-9ce7-85c3f83e30f3",
   "metadata": {},
   "outputs": [],
   "source": [
    "is2_ground['d'] = is2_ground['3dep.value'].notna()"
   ]
  },
  {
   "cell_type": "code",
   "execution_count": null,
   "id": "0d917178-d833-4f66-b6a1-a947654724ba",
   "metadata": {},
   "outputs": [],
   "source": [
    "is2_ground['d'].value_counts()"
   ]
  },
  {
   "cell_type": "code",
   "execution_count": null,
   "id": "f62051ff-fe72-416c-ac47-96bfcd7b81b4",
   "metadata": {},
   "outputs": [],
   "source": []
  }
 ],
 "metadata": {
  "kernelspec": {
   "display_name": "Python 3 (ipykernel)",
   "language": "python",
   "name": "python3"
  },
  "language_info": {
   "codemirror_mode": {
    "name": "ipython",
    "version": 3
   },
   "file_extension": ".py",
   "mimetype": "text/x-python",
   "name": "python",
   "nbconvert_exporter": "python",
   "pygments_lexer": "ipython3",
   "version": "3.8.13"
  }
 },
 "nbformat": 4,
 "nbformat_minor": 5
}
