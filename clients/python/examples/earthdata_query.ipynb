{
 "cells": [
  {
   "cell_type": "markdown",
   "id": "87127874",
   "metadata": {},
   "source": [
    "# EarthData Query Example\n",
    "\n",
    "Demonstrate methods for querying CMR, CMR-STAC, and TNM"
   ]
  },
  {
   "cell_type": "markdown",
   "id": "035b0d40",
   "metadata": {},
   "source": [
    "### Imports"
   ]
  },
  {
   "cell_type": "code",
   "execution_count": null,
   "id": "3b4ce981",
   "metadata": {},
   "outputs": [],
   "source": [
    "import json\n",
    "from sliderule import sliderule, earthdata"
   ]
  },
  {
   "cell_type": "markdown",
   "id": "e7fd3cd0",
   "metadata": {},
   "source": [
    "### Configuration"
   ]
  },
  {
   "cell_type": "code",
   "execution_count": null,
   "id": "44be4353",
   "metadata": {},
   "outputs": [],
   "source": [
    "sliderule.init(\"slideruleearth.io\", verbose=True)"
   ]
  },
  {
   "cell_type": "code",
   "execution_count": null,
   "id": "a890e60e",
   "metadata": {},
   "outputs": [],
   "source": [
    "aoi = sliderule.toregion(\"grandmesa.geojson\")"
   ]
  },
  {
   "cell_type": "markdown",
   "id": "03cf2080",
   "metadata": {},
   "source": [
    "### 1. General CMR Query using Request Parameters\n",
    "Finds all ATL03 granules that intersect an area of interest"
   ]
  },
  {
   "cell_type": "code",
   "execution_count": null,
   "id": "54429846",
   "metadata": {},
   "outputs": [],
   "source": [
    "parms = {\n",
    "    \"asset\": \"icesat2\",\n",
    "    \"poly\": aoi[\"poly\"]\n",
    "}\n",
    "resources = earthdata.search(parms)\n",
    "print(f'Query returned {len(resources)} resources')"
   ]
  },
  {
   "cell_type": "markdown",
   "id": "50fb82d8",
   "metadata": {},
   "source": [
    "### 2. More Specific CRM Query using Request Parameters\n",
    "Finds all ATL06 granules that interst an area of interest between two collection dates"
   ]
  },
  {
   "cell_type": "code",
   "execution_count": null,
   "id": "56d68bc1",
   "metadata": {},
   "outputs": [],
   "source": [
    "parms = {\n",
    "    \"asset\": \"icesat2-atl06\",\n",
    "    \"poly\": aoi[\"poly\"],\n",
    "    \"t0\": \"2022-01-01T00:00:00\",\n",
    "    \"t1\": \"2023-01-01T00:00:00\",\n",
    "}\n",
    "resources = earthdata.search(parms)\n",
    "print(f'Query returned {len(resources)} resources')"
   ]
  },
  {
   "cell_type": "markdown",
   "id": "19ac396c",
   "metadata": {},
   "source": [
    "### 3. Directly Query CMR\n",
    "Finds all version `006` ATL06 granules that interset an area of interest"
   ]
  },
  {
   "cell_type": "code",
   "execution_count": null,
   "id": "935d8fd3",
   "metadata": {},
   "outputs": [],
   "source": [
    "resources = earthdata.cmr(short_name=\"ATL06\", version=\"006\", polygon=aoi[\"poly\"])\n",
    "print(f'Query returned {len(resources)} resources')"
   ]
  },
  {
   "cell_type": "markdown",
   "id": "2ec16df8",
   "metadata": {},
   "source": [
    "### 4. Directly Query STAC \n",
    "Finds all HLS tiles thst intersect the area of interest and were collected between the two provided dates"
   ]
  },
  {
   "cell_type": "code",
   "execution_count": null,
   "id": "3578b915",
   "metadata": {},
   "outputs": [],
   "source": [
    "response = earthdata.stac(short_name=\"HLS\", polygon=aoi[\"poly\"], time_start=\"2021-01-01T00:00:00Z\", time_end=\"2022-01-01T23:59:59Z\")\n",
    "geojson = json.loads(response)\n",
    "print(f'Returned {geojson[\"context\"][\"returned\"]} features')"
   ]
  },
  {
   "cell_type": "markdown",
   "id": "1db5d28d",
   "metadata": {},
   "source": [
    "### 5. Make CMR Request using SlideRule Server\n",
    "Make same request as above (when earthdata.search was used), but this time use the SlideRule server to perform the CMR query "
   ]
  },
  {
   "cell_type": "code",
   "execution_count": null,
   "id": "d9de8d61",
   "metadata": {},
   "outputs": [],
   "source": [
    "parms = {\n",
    "    \"asset\": \"icesat2\",\n",
    "    \"poly\": aoi[\"poly\"]\n",
    "}\n",
    "response = sliderule.source(\"earthdata\", parms)\n",
    "print(f'Query returned {len(response)} resources')"
   ]
  }
 ],
 "metadata": {
  "kernelspec": {
   "display_name": "sliderule_env",
   "language": "python",
   "name": "python3"
  },
  "language_info": {
   "codemirror_mode": {
    "name": "ipython",
    "version": 3
   },
   "file_extension": ".py",
   "mimetype": "text/x-python",
   "name": "python",
   "nbconvert_exporter": "python",
   "pygments_lexer": "ipython3",
   "version": "3.12.0"
  }
 },
 "nbformat": 4,
 "nbformat_minor": 5
}
