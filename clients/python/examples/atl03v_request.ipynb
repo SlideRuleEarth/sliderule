{
 "cells": [
  {
   "cell_type": "markdown",
   "id": "8dab8a70",
   "metadata": {},
   "source": [
    "### ATL03 Viewer Request Example\n",
    "\n",
    "The `atl03v` endpoint subsets the ATL03 photon cloud at the segment level and returns a segment level dataset for quickly viewing data coverage.\n",
    "\n",
    "#### What is demonstrated\n",
    "\n",
    "* The `icesat2.atl03vp` API is used to perform a SlideRule proxied processing request of the Boulder Watershed region\n",
    "* The `matplotlib` and `geopandas` packages are used to plot the data returned by SlideRule"
   ]
  },
  {
   "cell_type": "code",
   "execution_count": null,
   "id": "b60362d6",
   "metadata": {},
   "outputs": [],
   "source": [
    "import matplotlib.pyplot as plt\n",
    "from sliderule import icesat2"
   ]
  },
  {
   "cell_type": "markdown",
   "id": "83cbacff",
   "metadata": {},
   "source": [
    "#### Define an area of interest"
   ]
  },
  {
   "cell_type": "code",
   "execution_count": null,
   "id": "ba618411",
   "metadata": {},
   "outputs": [],
   "source": [
    "# There are multiple ways to define an area of interest;\n",
    "# below, we have a simple polygon defined as a list of\n",
    "# dictionaries containing \"lat\" and \"lon\" keys; the first\n",
    "# and last entries must match to close the polygon\n",
    "region = [ {\"lon\":-105.82971551223244, \"lat\": 39.81983728534918},\n",
    "           {\"lon\":-105.30742121965137, \"lat\": 39.81983728534918},\n",
    "           {\"lon\":-105.30742121965137, \"lat\": 40.164048017973755},\n",
    "           {\"lon\":-105.82971551223244, \"lat\": 40.164048017973755},\n",
    "           {\"lon\":-105.82971551223244, \"lat\": 39.81983728534918} ]"
   ]
  },
  {
   "cell_type": "markdown",
   "id": "d0a75475",
   "metadata": {},
   "source": [
    "#### Make `atl03v` request"
   ]
  },
  {
   "cell_type": "code",
   "execution_count": null,
   "id": "a9ba30cc",
   "metadata": {},
   "outputs": [],
   "source": [
    "# Build ATL03 Viewer Request\n",
    "parms = {\n",
    "    \"poly\": region,\n",
    "    \"track\": 1\n",
    "}\n",
    "\n",
    "# Request ATL03 Viewer Data\n",
    "gdf = icesat2.atl03vp(parms)"
   ]
  },
  {
   "cell_type": "markdown",
   "id": "ec53bdcd",
   "metadata": {},
   "source": [
    "#### Display result statistics"
   ]
  },
  {
   "cell_type": "code",
   "execution_count": null,
   "id": "79e7765e",
   "metadata": {},
   "outputs": [],
   "source": [
    "print(\"Reference Ground Tracks: {}\".format(gdf[\"rgt\"].unique()))\n",
    "print(\"Cycles: {}\".format(gdf[\"cycle\"].unique()))\n",
    "print(\"Received {} segments\".format(len(gdf)))"
   ]
  },
  {
   "cell_type": "markdown",
   "id": "2ed186d0",
   "metadata": {},
   "source": [
    "#### Display GeoDataFrame"
   ]
  },
  {
   "cell_type": "code",
   "execution_count": null,
   "id": "0abdbdd7",
   "metadata": {},
   "outputs": [],
   "source": [
    "gdf"
   ]
  },
  {
   "cell_type": "markdown",
   "id": "f25e17e4",
   "metadata": {},
   "source": [
    "#### Create plot of results"
   ]
  },
  {
   "cell_type": "code",
   "execution_count": null,
   "id": "56e7837f",
   "metadata": {},
   "outputs": [],
   "source": [
    "# Calculate Extent\n",
    "lons = [p[\"lon\"] for p in region]\n",
    "lats = [p[\"lat\"] for p in region]\n",
    "lon_margin = (max(lons) - min(lons)) * 0.1\n",
    "lat_margin = (max(lats) - min(lats)) * 0.1\n",
    "\n",
    "# Create Plot\n",
    "fig,(ax1) = plt.subplots(num=None, ncols=1, figsize=(12, 6))\n",
    "box_lon = [e[\"lon\"] for e in region]\n",
    "box_lat = [e[\"lat\"] for e in region]\n",
    "\n",
    "# Plot SlideRule Ground Tracks\n",
    "ax1.set_title(\"SlideRule Zoomed Ground Tracks\")\n",
    "vmin = gdf['segment_ph_cnt'].quantile(0.15)\n",
    "vmax = gdf['segment_ph_cnt'].quantile(0.85)\n",
    "gdf.plot(ax=ax1, column=gdf[\"segment_ph_cnt\"], cmap='viridis', s=3.0, zorder=3, vmin=vmin, vmax=vmax, legend=True)\n",
    "ax1.plot(box_lon, box_lat, linewidth=1.5, color='r', zorder=2)\n",
    "ax1.set_xlim(min(lons) - lon_margin, max(lons) + lon_margin)\n",
    "ax1.set_ylim(min(lats) - lat_margin, max(lats) + lat_margin)\n",
    "ax1.set_aspect('equal', adjustable='box')\n",
    "\n",
    "# Show Plot\n",
    "plt.tight_layout()"
   ]
  }
 ],
 "metadata": {
  "kernelspec": {
   "display_name": "sliderule_env",
   "language": "python",
   "name": "python3"
  },
  "language_info": {
   "codemirror_mode": {
    "name": "ipython",
    "version": 3
   },
   "file_extension": ".py",
   "mimetype": "text/x-python",
   "name": "python",
   "nbconvert_exporter": "python",
   "pygments_lexer": "ipython3",
   "version": "3.12.0"
  }
 },
 "nbformat": 4,
 "nbformat_minor": 5
}
