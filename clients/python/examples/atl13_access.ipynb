{
 "cells": [
  {
   "cell_type": "markdown",
   "id": "ab0f8a76",
   "metadata": {},
   "source": [
    "## Accessing ATL13 \n",
    "\n",
    "SlideRule provides an `Asset Metadata Service` to lookup ATL13 granules using different variables:\n",
    "* reference id\n",
    "* lake name\n",
    "* coordinate within the lake\n",
    "\n",
    "SlideRule can also be used to directly subset ATL13 using the above variables."
   ]
  },
  {
   "cell_type": "code",
   "execution_count": null,
   "id": "d0e71af9",
   "metadata": {},
   "outputs": [],
   "source": [
    "# Imports\n",
    "from sliderule.session import Session\n",
    "from sliderule import sliderule\n",
    "\n",
    "# Setup\n",
    "session = Session()"
   ]
  },
  {
   "cell_type": "markdown",
   "id": "00746863",
   "metadata": {},
   "source": [
    "#### Query ATL13 `Asset Metadata Service` using Reference ID\n",
    "\n",
    "curl https://sliderule.slideruleearth.io/manager/ams/atl13?refid=5952002394"
   ]
  },
  {
   "cell_type": "code",
   "execution_count": null,
   "id": "bc7b35bf",
   "metadata": {},
   "outputs": [],
   "source": [
    "refid = 5952002394\n",
    "response = session.manager(f'ams/atl13?refid={refid}')\n",
    "response"
   ]
  },
  {
   "cell_type": "markdown",
   "id": "c344e242",
   "metadata": {},
   "source": [
    "#### Query ATL13 `Asset Metadata Service` using Name\n",
    "\n",
    "curl https://sliderule.slideruleearth.io/manager/ams/atl13?name=Caspian%20Sea\n"
   ]
  },
  {
   "cell_type": "code",
   "execution_count": null,
   "id": "6b735d24",
   "metadata": {},
   "outputs": [],
   "source": [
    "name = \"Caspian%20Sea\"\n",
    "response = session.manager(f'ams/atl13?name={name}')\n",
    "response"
   ]
  },
  {
   "cell_type": "markdown",
   "id": "047ed1d5",
   "metadata": {},
   "source": [
    "#### Query ATL13 `Asset Metadata Service` using Coordinates\n",
    "\n",
    "curl https://sliderule.slideruleearth.io/manager/ams/atl13?lon=-86.79835088109307&lat=42.762733124439904"
   ]
  },
  {
   "cell_type": "code",
   "execution_count": null,
   "id": "25fce937",
   "metadata": {},
   "outputs": [],
   "source": [
    "coordinates = [-86.79835088109307, 42.762733124439904]\n",
    "response = session.manager(f'ams/atl13?lon={coordinates[0]}&lat={coordinates[1]}')\n",
    "response"
   ]
  },
  {
   "cell_type": "markdown",
   "id": "dc9d88ce",
   "metadata": {},
   "source": [
    "#### Make ATL13 Subsetting Request to Sliderule"
   ]
  },
  {
   "cell_type": "code",
   "execution_count": null,
   "id": "fd8bd821",
   "metadata": {},
   "outputs": [],
   "source": [
    "parms = { \"atl13\": { \"refid\": 5952002394 } }\n",
    "gdf = sliderule.run(\"atl13x\", parms)"
   ]
  },
  {
   "cell_type": "code",
   "execution_count": null,
   "id": "d3fc604a",
   "metadata": {},
   "outputs": [],
   "source": [
    "#\n",
    "# Generate a plot of the results\n",
    "#\n",
    "gdf.plot(column='ht_ortho', cmap='viridis', legend=True)"
   ]
  },
  {
   "cell_type": "code",
   "execution_count": null,
   "id": "ea017ce5",
   "metadata": {},
   "outputs": [],
   "source": [
    "#\n",
    "# Display the returned GeoDataFrame\n",
    "#\n",
    "gdf"
   ]
  },
  {
   "cell_type": "code",
   "execution_count": null,
   "id": "3d6bf746",
   "metadata": {},
   "outputs": [],
   "source": [
    "#\n",
    "# Display mapping of srcid to granule names\n",
    "#\n",
    "gdf.attrs[\"meta\"][\"srctbl\"]"
   ]
  },
  {
   "cell_type": "code",
   "execution_count": null,
   "id": "8fa99297",
   "metadata": {},
   "outputs": [],
   "source": []
  }
 ],
 "metadata": {
  "kernelspec": {
   "display_name": "sliderule_env",
   "language": "python",
   "name": "python3"
  },
  "language_info": {
   "codemirror_mode": {
    "name": "ipython",
    "version": 3
   },
   "file_extension": ".py",
   "mimetype": "text/x-python",
   "name": "python",
   "nbconvert_exporter": "python",
   "pygments_lexer": "ipython3",
   "version": "3.12.0"
  }
 },
 "nbformat": 4,
 "nbformat_minor": 5
}
