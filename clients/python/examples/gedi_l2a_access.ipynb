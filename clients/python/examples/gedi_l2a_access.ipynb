{
 "cells": [
  {
   "cell_type": "code",
   "execution_count": null,
   "id": "3449588e-085e-41c9-9e1d-76d737d36be4",
   "metadata": {},
   "outputs": [],
   "source": [
    "# Imports\n",
    "import logging\n",
    "import matplotlib.pyplot as plt\n",
    "from sliderule import sliderule, gedi, earthdata"
   ]
  },
  {
   "cell_type": "code",
   "execution_count": null,
   "id": "929ac73a-f0d5-421d-a56f-c59d121e3939",
   "metadata": {},
   "outputs": [],
   "source": [
    "# Configuration\n",
    "verbose = True\n",
    "loglevel = logging.INFO"
   ]
  },
  {
   "cell_type": "markdown",
   "id": "32eecf8e-0028-49a8-9ce4-2a506bb48689",
   "metadata": {},
   "source": [
    "## How to access GEDI02_A data for an area of interest\n",
    "\n",
    "The code below takes about 30 seconds to execute and processes the 138 GEDI L2A granules that intersect the area of interest defined by the grandmesa.geojson file.  It is also filtering all measurements that don't have the L2 quality flag set or have the degrade flag set."
   ]
  },
  {
   "cell_type": "code",
   "execution_count": null,
   "id": "18619c6a-0d3f-4637-92ab-6697d1e20743",
   "metadata": {},
   "outputs": [],
   "source": [
    "# call sliderule\n",
    "gedi.init(verbose=verbose, loglevel=loglevel)\n",
    "parms = {\n",
    "    \"poly\": sliderule.toregion(\"grandmesa.geojson\")[\"poly\"],\n",
    "    \"degrade_filter\": True,\n",
    "    \"l2_quality_filter\": True,\n",
    "}\n",
    "gedi02a = gedi.gedi02ap(parms)\n",
    "gedi02a"
   ]
  },
  {
   "cell_type": "code",
   "execution_count": null,
   "id": "64902c02-f182-4942-9e87-13f3869aaa5b",
   "metadata": {},
   "outputs": [],
   "source": [
    "# plot elevations\n",
    "f, ax = plt.subplots(1, 1, figsize=[12,8])\n",
    "ax.set_title(\"Elevations Lowest Mode\")\n",
    "ax.set_aspect('equal')\n",
    "vmin_lm, vmax_lm = gedi02a['elevation_lm'].quantile((0.05, 0.95))\n",
    "gedi02a.plot(ax=ax, column='elevation_lm', cmap='inferno', s=0.1, vmin=vmin_lm, vmax=vmax_lm)"
   ]
  },
  {
   "cell_type": "markdown",
   "id": "65812a1c-76b4-4e18-a021-3f4d2e2ac396",
   "metadata": {},
   "source": [
    "## How to list GEDI02_A granules that intersect an area of interest\n",
    "\n",
    "If you are just interested in knowing what granules intersect an area of interest, you can use the `earthdata` module in the SlideRule client."
   ]
  },
  {
   "cell_type": "code",
   "execution_count": null,
   "id": "e686b75a-a05d-4c81-9937-f63ef7c63815",
   "metadata": {
    "scrolled": true
   },
   "outputs": [],
   "source": [
    "region = sliderule.toregion(\"grandmesa.geojson\")\n",
    "granules = earthdata.cmr(short_name=\"GEDI02_A\", polygon=region[\"poly\"])\n",
    "granules"
   ]
  },
  {
   "cell_type": "markdown",
   "id": "468c87e8-a5f3-4a5a-a1eb-ea8307d0ac09",
   "metadata": {},
   "source": [
    "## How to sample 3DEP at each GEDI02_A point for a granule in the area of interest\n",
    "\n",
    "The code below reads a GEDI L2A granule and for each elevation it samples the 3DEP 1m DEM raster whose measurements are closest in time to the GEDI measurement. The resulting data frame includes the data from both GEDI and 3DEP."
   ]
  },
  {
   "cell_type": "code",
   "execution_count": null,
   "id": "19aa29d4-3736-4600-ab25-61a6bff7bdbd",
   "metadata": {},
   "outputs": [],
   "source": [
    "# call sliderule\n",
    "gedi.init(verbose=verbose, loglevel=loglevel)\n",
    "parms = {\n",
    "    \"poly\": sliderule.toregion(\"grandmesa.geojson\")[\"poly\"],\n",
    "    \"degrade_filter\": True,\n",
    "    \"quality_filter\": True,\n",
    "    \"beam\": 11,\n",
    "    \"samples\": {\"3dep\": {\"asset\": \"usgs3dep-1meter-dem\", \"use_poi_time\": True}}\n",
    "}\n",
    "gedi02a = gedi.gedi02ap(parms, resources=['GEDI02_A_2019109210809_O01988_03_T02056_02_003_01_V002.h5'])\n",
    "gedi02a"
   ]
  },
  {
   "cell_type": "code",
   "execution_count": null,
   "id": "f9e94cdc-08f8-473d-84a8-1366750117eb",
   "metadata": {},
   "outputs": [],
   "source": [
    "# plot elevations\n",
    "gdf = gedi02a[gedi02a[\"3dep.value\"].notna()]\n",
    "fig,ax = plt.subplots(num=None, figsize=(10, 8))\n",
    "fig.set_facecolor('white')\n",
    "fig.canvas.header_visible = False\n",
    "ax.set_title(\"Elevations between GEDI and 3DEP\")\n",
    "ax.set_xlabel('UTC')\n",
    "ax.set_ylabel('height (m)')\n",
    "ax.yaxis.grid(True)\n",
    "sc1 = ax.scatter(gdf.index.values, gdf[\"elevation_lm\"].values, c='blue', s=2.5)\n",
    "sc2 = ax.scatter(gdf.index.values, gdf[\"3dep.value\"].values, c='red', s=2.5)\n",
    "plt.show()"
   ]
  },
  {
   "cell_type": "code",
   "execution_count": null,
   "id": "616cf11c-72da-4949-b5d0-6c358fff5e8d",
   "metadata": {},
   "outputs": [],
   "source": []
  }
 ],
 "metadata": {
  "kernelspec": {
   "display_name": "sliderule_env",
   "language": "python",
   "name": "python3"
  },
  "language_info": {
   "codemirror_mode": {
    "name": "ipython",
    "version": 3
   },
   "file_extension": ".py",
   "mimetype": "text/x-python",
   "name": "python",
   "nbconvert_exporter": "python",
   "pygments_lexer": "ipython3",
   "version": "3.12.0"
  }
 },
 "nbformat": 4,
 "nbformat_minor": 5
}
